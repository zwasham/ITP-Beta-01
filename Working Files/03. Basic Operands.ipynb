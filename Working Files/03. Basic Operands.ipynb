{
 "cells": [
  {
   "cell_type": "markdown",
   "metadata": {},
   "source": [
    "# **3. Basic Operands**"
   ]
  },
  {
   "cell_type": "markdown",
   "metadata": {},
   "source": [
    "---\n",
    "\n",
    "## **Types**\n",
    "\n",
    "In Python, operands are called objects, and objects are classified by type (or \"class\").\n",
    "\n",
    "An object's type determines the operations for which it can serve as an operand."
   ]
  },
  {
   "cell_type": "markdown",
   "metadata": {},
   "source": [
    "---\n",
    "\n",
    "## **Integers, Floats, and Booleans**\n",
    "\n",
    "In this course, you have already seen three types of numeric objects: integers, decimal numbers (called \"floats\" in Python), and Booleans."
   ]
  },
  {
   "cell_type": "code",
   "execution_count": 1,
   "metadata": {},
   "outputs": [
    {
     "name": "stdout",
     "output_type": "stream",
     "text": [
      "<class 'int'>\n",
      "<class 'float'>\n",
      "<class 'bool'>\n"
     ]
    }
   ],
   "source": [
    "# The type function returns the type of an object.\n",
    "\n",
    "print(type(2))\n",
    "print(type(2.0))\n",
    "print(type(True))"
   ]
  },
  {
   "cell_type": "markdown",
   "metadata": {},
   "source": [
    "<br>\n",
    "\n",
    "The Boolean type is a sub-type of integer. `True` is equivalent to `1` and `False` is equivalent to `0`."
   ]
  },
  {
   "cell_type": "code",
   "execution_count": 2,
   "metadata": {},
   "outputs": [
    {
     "name": "stdout",
     "output_type": "stream",
     "text": [
      "True\n",
      "True\n",
      "4\n"
     ]
    }
   ],
   "source": [
    "print(True == 1)\n",
    "print(False == 0)\n",
    "print(True + 3)"
   ]
  },
  {
   "cell_type": "markdown",
   "metadata": {},
   "source": [
    "<br>\n",
    "\n",
    "You can convert objects of compatible types into integers, floats, and Booleans using the `int`, `float`, and `bool` functions."
   ]
  },
  {
   "cell_type": "code",
   "execution_count": 3,
   "metadata": {},
   "outputs": [
    {
     "name": "stdout",
     "output_type": "stream",
     "text": [
      "1\n",
      "1.0\n",
      "False\n"
     ]
    }
   ],
   "source": [
    "print(int(1.9))            # Note that the int function truncates instead of rounding.\n",
    "print(float(True))\n",
    "print(bool(0))"
   ]
  },
  {
   "cell_type": "markdown",
   "metadata": {},
   "source": [
    "---\n",
    "\n",
    "## **Strings**"
   ]
  },
  {
   "cell_type": "markdown",
   "metadata": {},
   "source": [
    "#### <ins>Syntax</ins>\n",
    "\n",
    "In Python, text objects are called strings.\n",
    "\n",
    "The interpreter identifies strings by the notation that marks their boundaries (their \"delimiters\").\n",
    "\n",
    "Strings can be delimited by single, double, or triple quotes."
   ]
  },
  {
   "cell_type": "code",
   "execution_count": 5,
   "metadata": {},
   "outputs": [
    {
     "name": "stdout",
     "output_type": "stream",
     "text": [
      "<class 'str'>\n",
      "<class 'str'>\n",
      "<class 'str'>\n"
     ]
    }
   ],
   "source": [
    "print(type('This is a string.'))\n",
    "print(type(\"This is also a string.\"))\n",
    "print(type('''This, too, is a string.'''))"
   ]
  },
  {
   "cell_type": "markdown",
   "metadata": {},
   "source": [
    "<br>\n",
    "\n",
    "A string must end with the same notation with which it was initiated."
   ]
  },
  {
   "cell_type": "code",
   "execution_count": 7,
   "metadata": {},
   "outputs": [
    {
     "data": {
      "text/plain": [
       "'This is not going to work.\"'"
      ]
     },
     "execution_count": 7,
     "metadata": {},
     "output_type": "execute_result"
    }
   ],
   "source": [
    "'This is not going to work.\"'"
   ]
  },
  {
   "cell_type": "markdown",
   "metadata": {},
   "source": [
    "<br>\n",
    "\n",
    "You can include single or double quotes in a string by delimiting the string with alternate notation."
   ]
  },
  {
   "cell_type": "code",
   "execution_count": null,
   "metadata": {},
   "outputs": [],
   "source": [
    "print(\"Walmart's current stock price is $68.13.\")\n",
    "print('CEO Doug McMillon said, \"As we invest in technology, we want our people to go with us.\"')"
   ]
  },
  {
   "cell_type": "markdown",
   "metadata": {},
   "source": [
    "<br>\n",
    "\n",
    "When you need both single and double quotes in a string, preceding quotes with the `\\` symbol will prevent the interpreter from treating them as delimiters."
   ]
  },
  {
   "cell_type": "code",
   "execution_count": null,
   "metadata": {},
   "outputs": [],
   "source": [
    "print('Walmart\\'s CEO said, \"As we invest in technology, we want our people to go with us.\"')"
   ]
  },
  {
   "cell_type": "markdown",
   "metadata": {},
   "source": [
    "<br>\n",
    "\n",
    "Alternatively, you can delimit the string with triple quotes."
   ]
  },
  {
   "cell_type": "code",
   "execution_count": 8,
   "metadata": {},
   "outputs": [
    {
     "name": "stdout",
     "output_type": "stream",
     "text": [
      "Walmart's CEO said, \"As we invest in technology, we want our people to go with us.\"\n"
     ]
    }
   ],
   "source": [
    "print('''Walmart's CEO said, \"As we invest in technology, we want our people to go with us.\"''')"
   ]
  },
  {
   "cell_type": "markdown",
   "metadata": {},
   "source": [
    "<br>\n",
    "\n",
    "A string delimited with triple quotes can span multiple lines."
   ]
  },
  {
   "cell_type": "code",
   "execution_count": 12,
   "metadata": {},
   "outputs": [
    {
     "name": "stdout",
     "output_type": "stream",
     "text": [
      "WMT\n",
      "---\n",
      "Price: $68.13\n",
      "P/E Ratio: 35.48\n",
      "Beta: 0.50\n"
     ]
    }
   ],
   "source": [
    "print('''WMT\n",
    "---\n",
    "Price: $68.13\n",
    "P/E Ratio: 35.48\n",
    "Beta: 0.50''')"
   ]
  },
  {
   "cell_type": "markdown",
   "metadata": {},
   "source": [
    "<br>\n",
    "\n",
    "#### <ins>Concatenation and Repetition</ins>"
   ]
  },
  {
   "cell_type": "markdown",
   "metadata": {},
   "source": [
    "As you would expect, strings cannot serve as operands for the same operations as numeric objects."
   ]
  },
  {
   "cell_type": "code",
   "execution_count": 13,
   "metadata": {},
   "outputs": [
    {
     "data": {
      "text/plain": [
       "10"
      ]
     },
     "execution_count": 13,
     "metadata": {},
     "output_type": "execute_result"
    }
   ],
   "source": [
    "# Python can calculate the absolute value of an integer...\n",
    "\n",
    "abs(-10)"
   ]
  },
  {
   "cell_type": "code",
   "execution_count": 14,
   "metadata": {},
   "outputs": [
    {
     "ename": "TypeError",
     "evalue": "bad operand type for abs(): 'str'",
     "output_type": "error",
     "traceback": [
      "\u001b[0;31m---------------------------------------------------------------------------\u001b[0m",
      "\u001b[0;31mTypeError\u001b[0m                                 Traceback (most recent call last)",
      "Cell \u001b[0;32mIn[14], line 3\u001b[0m\n\u001b[1;32m      1\u001b[0m \u001b[38;5;66;03m# ...but not of a string.\u001b[39;00m\n\u001b[0;32m----> 3\u001b[0m \u001b[38;5;28;43mabs\u001b[39;49m\u001b[43m(\u001b[49m\u001b[38;5;124;43m'\u001b[39;49m\u001b[38;5;124;43mTest string\u001b[39;49m\u001b[38;5;124;43m'\u001b[39;49m\u001b[43m)\u001b[49m\n",
      "\u001b[0;31mTypeError\u001b[0m: bad operand type for abs(): 'str'"
     ]
    }
   ],
   "source": [
    "# ...but not of a string.\n",
    "\n",
    "abs('Test string')"
   ]
  },
  {
   "cell_type": "markdown",
   "metadata": {},
   "source": [
    "<br>\n",
    "\n",
    "However, when given strings as operands, the `+` symbol initiates concatenation instead of addition."
   ]
  },
  {
   "cell_type": "code",
   "execution_count": 15,
   "metadata": {},
   "outputs": [
    {
     "data": {
      "text/plain": [
       "'Introduction to Python'"
      ]
     },
     "execution_count": 15,
     "metadata": {},
     "output_type": "execute_result"
    }
   ],
   "source": [
    "'Introduction to ' + 'Python'"
   ]
  },
  {
   "cell_type": "markdown",
   "metadata": {},
   "source": [
    "<br>\n",
    "\n",
    "Similarly, the `*` symbol initiates repetition instead of multiplication."
   ]
  },
  {
   "cell_type": "code",
   "execution_count": 16,
   "metadata": {},
   "outputs": [
    {
     "data": {
      "text/plain": [
       "'Go! Go! Go! '"
      ]
     },
     "execution_count": 16,
     "metadata": {},
     "output_type": "execute_result"
    }
   ],
   "source": [
    "'Go! ' * 3"
   ]
  },
  {
   "cell_type": "markdown",
   "metadata": {},
   "source": [
    "<br>\n",
    "\n",
    "#### <ins>Interpolation</ins>"
   ]
  },
  {
   "cell_type": "markdown",
   "metadata": {},
   "source": [
    "Interpolation is an operation in which a textual representation of an object is inserted into a string. Python provides multiple methods of string interpolation, but the most common is called [formatted string literals](https://docs.python.org/3/reference/lexical_analysis.html#f-strings) (or \"f-strings\" for short).\n",
    "\n",
    "F-strings (and other interpolation methods) are used to produce dynamic text outputs."
   ]
  },
  {
   "cell_type": "code",
   "execution_count": 30,
   "metadata": {},
   "outputs": [
    {
     "name": "stdout",
     "output_type": "stream",
     "text": [
      "Our algorithm predicts that the price of MSFT will fall to $416.21.\n"
     ]
    }
   ],
   "source": [
    "# For example, if you developed an algorithm to predict a company's stock price...\n",
    "\n",
    "ticker = 'MSFT'\n",
    "change = 'fall'\n",
    "predicted_price = 416.21\n",
    "\n",
    "# ...you could automatically output your results using an f-string.\n",
    "\n",
    "print(f'Our algorithm predicts that the price of {ticker} will {change} to ${predicted_price}.')    "
   ]
  },
  {
   "cell_type": "markdown",
   "metadata": {},
   "source": [
    "<br>\n",
    "\n",
    "F-strings begin with the letter `f` followed by a string containing some number of *replacement fields* (expressions delimited with curly brackets).\n",
    "\n",
    "The interpreter evaluates the expression in each replacement field and, if necessary, converts its result into a string. "
   ]
  },
  {
   "cell_type": "code",
   "execution_count": 31,
   "metadata": {},
   "outputs": [
    {
     "data": {
      "text/plain": [
       "'Two plus two is equal to 4.'"
      ]
     },
     "execution_count": 31,
     "metadata": {},
     "output_type": "execute_result"
    }
   ],
   "source": [
    "f'Two plus two is equal to {2 + 2}.'"
   ]
  },
  {
   "cell_type": "markdown",
   "metadata": {},
   "source": [
    "<br>\n",
    "\n",
    "In some cases, you may want to change the formatting of your interpolated object."
   ]
  },
  {
   "cell_type": "code",
   "execution_count": 32,
   "metadata": {},
   "outputs": [
    {
     "name": "stdout",
     "output_type": "stream",
     "text": [
      "Our algorithm predicts that the price of MSFT will fall to $416.2.\n"
     ]
    }
   ],
   "source": [
    "predicted_price = 416.20\n",
    "\n",
    "print(f'Our algorithm predicts that the price of {ticker} will {change} to ${predicted_price}.')    "
   ]
  },
  {
   "cell_type": "markdown",
   "metadata": {},
   "source": [
    "<br>\n",
    "\n",
    "You can achieve this by adding a formatting specification to any replacement field.\n",
    "\n",
    "Python includes a [Formatting Specification Mini-Language](https://docs.python.org/3/library/string.html#format-specification-mini-language) that is comparable to Excel's custom formatting notation. \n",
    "\n",
    "Use a `:` to separate your formatting specification from the object you want to insert into your string. "
   ]
  },
  {
   "cell_type": "code",
   "execution_count": 33,
   "metadata": {},
   "outputs": [
    {
     "name": "stdout",
     "output_type": "stream",
     "text": [
      "Our algorithm predicts that the price of MSFT will fall to $416.20.\n"
     ]
    }
   ],
   "source": [
    "# The formatting spec .2f tells the interpreter to display predicted_price as a floating point\n",
    "# number with two decimal places.\n",
    "\n",
    "print(f'Our algorithm predicts that the price of {ticker} will {change} to ${predicted_price:.2f}.')    "
   ]
  },
  {
   "cell_type": "markdown",
   "metadata": {},
   "source": [
    "<br>\n",
    "\n",
    "#### <ins>Other Operations</ins>\n",
    "\n",
    "You can test whether a character or series of characters is in a string with the `in` keyword."
   ]
  },
  {
   "cell_type": "code",
   "execution_count": 34,
   "metadata": {},
   "outputs": [
    {
     "data": {
      "text/plain": [
       "True"
      ]
     },
     "execution_count": 34,
     "metadata": {},
     "output_type": "execute_result"
    }
   ],
   "source": [
    "excerpt = \"PPG's depreciation expense is calculated using the straight-line depreciation method.\"\n",
    "'straight-line' in excerpt"
   ]
  },
  {
   "cell_type": "markdown",
   "metadata": {},
   "source": [
    "<br>\n",
    "\n",
    "You can use the `len` function to check the length of a string."
   ]
  },
  {
   "cell_type": "code",
   "execution_count": 35,
   "metadata": {},
   "outputs": [
    {
     "data": {
      "text/plain": [
       "85"
      ]
     },
     "execution_count": 35,
     "metadata": {},
     "output_type": "execute_result"
    }
   ],
   "source": [
    "len(excerpt)"
   ]
  },
  {
   "cell_type": "markdown",
   "metadata": {},
   "source": [
    "<br>\n",
    "\n",
    "#### <ins>The </ins>`str`<ins> Function</ins>\n",
    "\n",
    "You can convert objects of almost any type into a string by using the `str` function."
   ]
  },
  {
   "cell_type": "code",
   "execution_count": 37,
   "metadata": {},
   "outputs": [
    {
     "data": {
      "text/plain": [
       "str"
      ]
     },
     "execution_count": 37,
     "metadata": {},
     "output_type": "execute_result"
    }
   ],
   "source": [
    "type(str(123))"
   ]
  },
  {
   "cell_type": "code",
   "execution_count": 38,
   "metadata": {},
   "outputs": [
    {
     "name": "stdout",
     "output_type": "stream",
     "text": [
      "123123\n"
     ]
    }
   ],
   "source": [
    "my_string = str(123)\n",
    "print(my_string * 2)"
   ]
  },
  {
   "cell_type": "markdown",
   "metadata": {},
   "source": [
    "---\n",
    "\n",
    "## **Containers**\n",
    "\n",
    "Containers (or \"data structures\") are operands that contain other operands.\n",
    "\n",
    "Python provides multiple types of containers which differ in:\n",
    "1) The way they organize the objects they contain (their \"elements\") and \n",
    "2) The operations for which they can serve as an operand.\n",
    "\n"
   ]
  },
  {
   "cell_type": "markdown",
   "metadata": {},
   "source": [
    "---\n",
    "\n",
    "## **Lists**\n",
    "\n",
    "#### <ins>Definition</ins>\n",
    "\n",
    "A list is a container that organizes its elements in a sequence."
   ]
  },
  {
   "cell_type": "markdown",
   "metadata": {},
   "source": [
    "<br>\n",
    "\n",
    "#### <ins>Syntax</ins>\n",
    "\n",
    "The interpreter identifies lists by their delimiters, square brackets.\n",
    "\n",
    "Each element of a list is separated by a comma."
   ]
  },
  {
   "cell_type": "code",
   "execution_count": 39,
   "metadata": {},
   "outputs": [
    {
     "name": "stdout",
     "output_type": "stream",
     "text": [
      "[1, 2, 3]\n",
      "<class 'list'>\n"
     ]
    }
   ],
   "source": [
    "#            In syntactic terms, this is a list display.\n",
    "#            |\n",
    "list_a = [1, 2, 3]          \n",
    "print(list_a)\n",
    "print(type(list_a))"
   ]
  },
  {
   "cell_type": "markdown",
   "metadata": {},
   "source": [
    "<br>\n",
    "\n",
    "#### <ins>Elements</ins>\n",
    "\n",
    "Lists can contain objects of any type, including other lists.\n",
    "\n",
    "The interpreter will first evaluate an expression in a list display and then store its result in the list."
   ]
  },
  {
   "cell_type": "code",
   "execution_count": 40,
   "metadata": {},
   "outputs": [
    {
     "data": {
      "text/plain": [
       "[2, 10.7, False, 40, 'Test String', [1, 2, 3]]"
      ]
     },
     "execution_count": 40,
     "metadata": {},
     "output_type": "execute_result"
    }
   ],
   "source": [
    "example_list = [2, 10.7, False, abs(10 - 50), 'Test String', list_a]\n",
    "example_list"
   ]
  },
  {
   "cell_type": "markdown",
   "metadata": {},
   "source": [
    "<br>\n",
    "\n",
    "Each element of a list is associated with an index number beginning with zero."
   ]
  },
  {
   "cell_type": "code",
   "execution_count": 42,
   "metadata": {},
   "outputs": [],
   "source": [
    "abc_list = ['a', 'b', 'c']\n",
    "#            0    1    2"
   ]
  },
  {
   "cell_type": "markdown",
   "metadata": {},
   "source": [
    "<br>\n",
    "\n",
    "#### <ins>Subscription</ins>\n",
    "\n",
    "You can access a single element of a list through an operation called subscription (or \"indexing\").\n",
    "\n",
    "The operation of subscription is initiated by a syntactic pattern which is called by the same name.\n",
    "\n",
    "Syntactically, a subscription is a list (or an identifier bound to a list) followed by a pair of square brackets containing the index of an element in the list.\n"
   ]
  },
  {
   "cell_type": "code",
   "execution_count": 44,
   "metadata": {},
   "outputs": [
    {
     "name": "stdout",
     "output_type": "stream",
     "text": [
      "a\n",
      "c\n"
     ]
    }
   ],
   "source": [
    "print(abc_list[0])          # In syntactic terms, this is a subscription.\n",
    "print(abc_list[2])          # Subscription is also commonly called \"indexing\"."
   ]
  },
  {
   "cell_type": "markdown",
   "metadata": {},
   "source": [
    "<br>\n",
    "\n",
    "If an index in a subscription does not correspond to a list element, the interpreter will raise an IndexError."
   ]
  },
  {
   "cell_type": "code",
   "execution_count": 46,
   "metadata": {},
   "outputs": [
    {
     "ename": "IndexError",
     "evalue": "list index out of range",
     "output_type": "error",
     "traceback": [
      "\u001b[0;31m---------------------------------------------------------------------------\u001b[0m",
      "\u001b[0;31mIndexError\u001b[0m                                Traceback (most recent call last)",
      "Cell \u001b[0;32mIn[46], line 1\u001b[0m\n\u001b[0;32m----> 1\u001b[0m \u001b[38;5;28mprint\u001b[39m(\u001b[43mabc_list\u001b[49m\u001b[43m[\u001b[49m\u001b[38;5;241;43m5\u001b[39;49m\u001b[43m]\u001b[49m)\n",
      "\u001b[0;31mIndexError\u001b[0m: list index out of range"
     ]
    }
   ],
   "source": [
    "print(abc_list[5])"
   ]
  },
  {
   "cell_type": "markdown",
   "metadata": {},
   "source": [
    "<br>\n",
    "\n",
    "The interpreter evaluates bracketed expressions before subscriptions.\n",
    "\n",
    "Therefore, you can use an expression in a subscription as long as the expression results in a valid index."
   ]
  },
  {
   "cell_type": "code",
   "execution_count": 48,
   "metadata": {},
   "outputs": [
    {
     "data": {
      "text/plain": [
       "'c'"
      ]
     },
     "execution_count": 48,
     "metadata": {},
     "output_type": "execute_result"
    }
   ],
   "source": [
    "abc_list[-4 + 6]"
   ]
  },
  {
   "cell_type": "markdown",
   "metadata": {},
   "source": [
    "<br>\n",
    "\n",
    "#### <ins>Slicing</ins>\n",
    "\n",
    "You can extract multiple consecutive elements from a list through an operation called slicing.\n",
    "\n",
    "The operation of slicing is initiated by a syntactic pattern which is called by the same name."
   ]
  },
  {
   "cell_type": "code",
   "execution_count": 49,
   "metadata": {},
   "outputs": [
    {
     "name": "stdout",
     "output_type": "stream",
     "text": [
      "['a', 'b']\n"
     ]
    }
   ],
   "source": [
    "# In its most basic form, a slicing contains a start index and an end index separated by a colon.\n",
    "\n",
    "print(abc_list[0:2])         # In syntactic terms, this is a slicing."
   ]
  },
  {
   "cell_type": "markdown",
   "metadata": {},
   "source": [
    "<br>\n",
    "\n",
    "Unlike subscription, which can return an object of any type, slicing a list always produces another list."
   ]
  },
  {
   "cell_type": "code",
   "execution_count": 51,
   "metadata": {},
   "outputs": [
    {
     "name": "stdout",
     "output_type": "stream",
     "text": [
      "a\n",
      "<class 'str'>\n",
      "-\n",
      "['a', 'b']\n",
      "<class 'list'>\n"
     ]
    }
   ],
   "source": [
    "print(abc_list[0])               # This subscription will return a string.\n",
    "print(type(abc_list[0]))\n",
    "\n",
    "print('-')\n",
    "\n",
    "print(abc_list[0:2])             # This slicing will return a list.\n",
    "print(type(abc_list[0:2]))"
   ]
  },
  {
   "cell_type": "markdown",
   "metadata": {},
   "source": [
    "The list returned by a slicing includes the element associated with the start index of the slicing but excludes the element associated with the end index of the slicing."
   ]
  },
  {
   "cell_type": "markdown",
   "metadata": {},
   "source": [
    "<br>\n",
    "\n",
    "When a slice involves the first or last element in a list, the associated index can be ommitted."
   ]
  },
  {
   "cell_type": "code",
   "execution_count": 52,
   "metadata": {},
   "outputs": [
    {
     "name": "stdout",
     "output_type": "stream",
     "text": [
      "['a', 'b', 'c']\n",
      "['a', 'b']\n",
      "['b', 'c']\n",
      "['a', 'b', 'c']\n"
     ]
    }
   ],
   "source": [
    "print(abc_list)\n",
    "print(abc_list[:2])  # When the start index is omitted, the slice will start with the first element.\n",
    "print(abc_list[1:])  # When the end index is omitted, the slice will end with the last element.\n",
    "print(abc_list[:])   # A slice without either index will return the whole list."
   ]
  },
  {
   "cell_type": "markdown",
   "metadata": {},
   "source": [
    "<br>\n",
    "\n",
    "By default, a slicing will return an uninterrupted series of consecutive elements.\n",
    "\n",
    "However, you can skip elements by adding a *step* value after the second index in a slicing."
   ]
  },
  {
   "cell_type": "code",
   "execution_count": 61,
   "metadata": {},
   "outputs": [
    {
     "data": {
      "text/plain": [
       "[2, 4, 6, 8]"
      ]
     },
     "execution_count": 61,
     "metadata": {},
     "output_type": "execute_result"
    }
   ],
   "source": [
    "numbers = [1, 2, 3, 4, 5, 6, 7, 8]\n",
    "\n",
    "even_numbers = numbers[1:88:2]               # (This 8 can be ommitted without consequence.)\n",
    "#                          |\n",
    "#                          Step\n",
    "\n",
    "even_numbers"
   ]
  },
  {
   "cell_type": "markdown",
   "metadata": {},
   "source": [
    "<br>\n",
    "\n",
    "#### <ins>Negative Indices</ins>\n",
    "\n",
    "Each element in a list is also associated with a negative index.\n",
    "\n",
    "You can use negative indices to reference elements based on their distance from the end of the list."
   ]
  },
  {
   "cell_type": "code",
   "execution_count": 65,
   "metadata": {},
   "outputs": [
    {
     "name": "stdout",
     "output_type": "stream",
     "text": [
      "c\n",
      "['b', 'c']\n"
     ]
    }
   ],
   "source": [
    "abc_list = ['a', 'b', 'c']\n",
    "#           -3   -2   -1\n",
    "\n",
    "print(abc_list[-1])\n",
    "print(abc_list[-2:])"
   ]
  },
  {
   "cell_type": "markdown",
   "metadata": {},
   "source": [
    "<br>\n",
    "\n",
    "#### <ins>Index Assignment</ins>\n",
    "\n",
    "You can change an element of a list by targeting the associated index in an assignment statement."
   ]
  },
  {
   "cell_type": "code",
   "execution_count": 71,
   "metadata": {},
   "outputs": [
    {
     "name": "stdout",
     "output_type": "stream",
     "text": [
      "variable value\n"
     ]
    }
   ],
   "source": [
    "variable = 'variable value'\n",
    "print(variable)"
   ]
  },
  {
   "cell_type": "code",
   "execution_count": 72,
   "metadata": {},
   "outputs": [
    {
     "name": "stdout",
     "output_type": "stream",
     "text": [
      "[1, 1, 3]\n",
      "[1, 2, 3]\n"
     ]
    }
   ],
   "source": [
    "# UPDATE THIS EXAMPLE\n",
    "\n",
    "test_list = [1, 1, 3]\n",
    "print(test_list)\n",
    "\n",
    "test_list[1] = 2\n",
    "print(test_list)"
   ]
  },
  {
   "cell_type": "markdown",
   "metadata": {},
   "source": [
    "<br>\n",
    "\n",
    "If you attempt to assign an object to an index beyond the range of a list, the interpreter will raise an IndexError."
   ]
  },
  {
   "cell_type": "code",
   "execution_count": 75,
   "metadata": {},
   "outputs": [
    {
     "ename": "IndexError",
     "evalue": "list assignment index out of range",
     "output_type": "error",
     "traceback": [
      "\u001b[0;31m---------------------------------------------------------------------------\u001b[0m",
      "\u001b[0;31mIndexError\u001b[0m                                Traceback (most recent call last)",
      "Cell \u001b[0;32mIn[75], line 1\u001b[0m\n\u001b[0;32m----> 1\u001b[0m \u001b[43mtest_list\u001b[49m\u001b[43m[\u001b[49m\u001b[38;5;241;43m3\u001b[39;49m\u001b[43m]\u001b[49m \u001b[38;5;241m=\u001b[39m \u001b[38;5;241m4\u001b[39m\n\u001b[1;32m      2\u001b[0m test_list\n",
      "\u001b[0;31mIndexError\u001b[0m: list assignment index out of range"
     ]
    }
   ],
   "source": [
    "test_list[3] = 4\n",
    "test_list"
   ]
  },
  {
   "cell_type": "markdown",
   "metadata": {},
   "source": [
    "<br>\n",
    "\n",
    "#### <ins>Other Operations</ins>\n",
    "\n",
    "As with strings, the `+` and `*` symbols initiate concatenation and repetition when they receive lists as arguments."
   ]
  },
  {
   "cell_type": "code",
   "execution_count": 76,
   "metadata": {},
   "outputs": [
    {
     "name": "stdout",
     "output_type": "stream",
     "text": [
      "[1, 2, 3, 4, 5, 6]\n",
      "[1, 2, 3, 1, 2, 3]\n"
     ]
    }
   ],
   "source": [
    "list_b = [4, 5, 6]\n",
    "print(list_a + list_b)\n",
    "print(list_a * 2)"
   ]
  },
  {
   "cell_type": "markdown",
   "metadata": {},
   "source": [
    "<br>\n",
    "\n",
    "The `len` function returns the length of a list."
   ]
  },
  {
   "cell_type": "code",
   "execution_count": 77,
   "metadata": {},
   "outputs": [
    {
     "data": {
      "text/plain": [
       "3"
      ]
     },
     "execution_count": 77,
     "metadata": {},
     "output_type": "execute_result"
    }
   ],
   "source": [
    "len(list_b)"
   ]
  },
  {
   "cell_type": "markdown",
   "metadata": {},
   "source": [
    "<br>\n",
    "\n",
    "The `in` keyword tests membership."
   ]
  },
  {
   "cell_type": "code",
   "execution_count": 78,
   "metadata": {},
   "outputs": [
    {
     "data": {
      "text/plain": [
       "True"
      ]
     },
     "execution_count": 78,
     "metadata": {},
     "output_type": "execute_result"
    }
   ],
   "source": [
    "5 in list_b"
   ]
  },
  {
   "cell_type": "markdown",
   "metadata": {},
   "source": [
    "<br>\n",
    "\n",
    "#### <ins>The </ins>`list`<ins> Function</ins>\n",
    "\n",
    "You can convert compatible objects into a list by using the `list` function."
   ]
  },
  {
   "cell_type": "code",
   "execution_count": 79,
   "metadata": {},
   "outputs": [
    {
     "name": "stdout",
     "output_type": "stream",
     "text": [
      "['x', 'y', 'z']\n"
     ]
    }
   ],
   "source": [
    "xyz_list = list('xyz')\n",
    "print(xyz_list)"
   ]
  },
  {
   "cell_type": "markdown",
   "metadata": {},
   "source": [
    "---\n",
    "\n",
    "## **Dictionaries**\n",
    "\n",
    "#### <ins>Definition</ins>\n",
    "\n",
    "A dictionary is a container that organizes its elements in key-value pairs.\n",
    "\n",
    "#### <ins>Syntax</ins>\n",
    "\n",
    "Dictionaries are delimited by curly brackets. Keys precede values and are separated from values with a colon. Key-value pairs (\"items\") are separated by commas."
   ]
  },
  {
   "cell_type": "code",
   "execution_count": 80,
   "metadata": {},
   "outputs": [
    {
     "name": "stdout",
     "output_type": "stream",
     "text": [
      "{'one': 1, 'two': 2, 'three': 3}\n",
      "<class 'dict'>\n"
     ]
    }
   ],
   "source": [
    "#                                     In syntactic terms, this is a dictionary display.\n",
    "#                                     |\n",
    "example_dictionary = {'one' : 1, 'two' : 2, 'three' : 3}\n",
    "#                       |     |\n",
    "#                     Key     Value\n",
    "\n",
    "print(example_dictionary)\n",
    "print(type(example_dictionary))"
   ]
  },
  {
   "cell_type": "markdown",
   "metadata": {},
   "source": [
    "<br>\n",
    "\n",
    "To make your code easier to read, you can split dictionary displays across multiple lines."
   ]
  },
  {
   "cell_type": "code",
   "execution_count": 88,
   "metadata": {},
   "outputs": [
    {
     "name": "stdout",
     "output_type": "stream",
     "text": [
      "{'one': 1, 'two': 2, 'three': 3}\n"
     ]
    }
   ],
   "source": [
    "# This is the conventional format for writing dictionary displays.\n",
    "# The interpreter will ignore spaces, newlines, and indents.\n",
    "\n",
    "example_dictionary = {\n",
    "    'one' : 1, \n",
    "    'two' : 2, \n",
    "    'three' : 3\n",
    "}\n",
    "\n",
    "print(example_dictionary)"
   ]
  },
  {
   "cell_type": "markdown",
   "metadata": {},
   "source": [
    "<br>\n",
    "\n",
    "Any object can serve as a value in a dictionary. However, dictionary keys must be [hashable objects](https://docs.python.org/3/glossary.html#term-hashable). \n",
    "\n",
    "Numeric types and strings are hashable. Lists and dictionaries are not."
   ]
  },
  {
   "cell_type": "code",
   "execution_count": 89,
   "metadata": {},
   "outputs": [
    {
     "name": "stdout",
     "output_type": "stream",
     "text": [
      "{1: 'value', 5.7: {'one': 1, 'two': 2}, 'key': 10}\n"
     ]
    }
   ],
   "source": [
    "# NOTE TO SELF: MAKE THIS EXAMPLE MEANINGFUL INSTEAD OF ARBITRARY.\n",
    "\n",
    "new_dictionary = {\n",
    "    1 : [1, 2, 3],\n",
    "    5.7 : {'one' : 1, 'two' : 2},\n",
    "    True : 'value',\n",
    "    'key' : 10\n",
    "}\n",
    "\n",
    "print(new_dictionary)"
   ]
  },
  {
   "cell_type": "code",
   "execution_count": 90,
   "metadata": {},
   "outputs": [
    {
     "ename": "TypeError",
     "evalue": "unhashable type: 'list'",
     "output_type": "error",
     "traceback": [
      "\u001b[0;31m---------------------------------------------------------------------------\u001b[0m",
      "\u001b[0;31mTypeError\u001b[0m                                 Traceback (most recent call last)",
      "Cell \u001b[0;32mIn[90], line 3\u001b[0m\n\u001b[1;32m      1\u001b[0m \u001b[38;5;66;03m# NOTE TO SELF: MAKE THIS EXAMPLE MEANINGFUL INSTEAD OF ARBITRARY.\u001b[39;00m\n\u001b[0;32m----> 3\u001b[0m bad_dictionary \u001b[38;5;241m=\u001b[39m {\n\u001b[1;32m      4\u001b[0m     [\u001b[38;5;241m1\u001b[39m, \u001b[38;5;241m2\u001b[39m, \u001b[38;5;241m3\u001b[39m] : \u001b[38;5;124m'\u001b[39m\u001b[38;5;124mvalue\u001b[39m\u001b[38;5;124m'\u001b[39m\n\u001b[1;32m      5\u001b[0m }\n",
      "\u001b[0;31mTypeError\u001b[0m: unhashable type: 'list'"
     ]
    }
   ],
   "source": [
    "# NOTE TO SELF: MAKE THIS EXAMPLE MEANINGFUL INSTEAD OF ARBITRARY.\n",
    "\n",
    "bad_dictionary = {\n",
    "    [1, 2, 3] : 'value'\n",
    "}"
   ]
  },
  {
   "cell_type": "markdown",
   "metadata": {},
   "source": [
    "<br>\n",
    "\n",
    "#### <ins>Subscription</ins>\n",
    "\n",
    "As with list elements, you can access dictionary values through subscription.\n",
    "\n",
    "The syntax of dictionary subscription is the same as list subscription except that keys replace index numbers."
   ]
  },
  {
   "cell_type": "code",
   "execution_count": 91,
   "metadata": {},
   "outputs": [
    {
     "data": {
      "text/plain": [
       "2"
      ]
     },
     "execution_count": 91,
     "metadata": {},
     "output_type": "execute_result"
    }
   ],
   "source": [
    "example_dictionary['two']"
   ]
  },
  {
   "cell_type": "markdown",
   "metadata": {},
   "source": [
    "<br>\n",
    "\n",
    "Using an invalid key in a dictionary subscription will cause the interpreter to raise a KeyError."
   ]
  },
  {
   "cell_type": "code",
   "execution_count": 92,
   "metadata": {},
   "outputs": [
    {
     "ename": "KeyError",
     "evalue": "'four'",
     "output_type": "error",
     "traceback": [
      "\u001b[0;31m---------------------------------------------------------------------------\u001b[0m",
      "\u001b[0;31mKeyError\u001b[0m                                  Traceback (most recent call last)",
      "Cell \u001b[0;32mIn[92], line 1\u001b[0m\n\u001b[0;32m----> 1\u001b[0m \u001b[43mexample_dictionary\u001b[49m\u001b[43m[\u001b[49m\u001b[38;5;124;43m'\u001b[39;49m\u001b[38;5;124;43mfour\u001b[39;49m\u001b[38;5;124;43m'\u001b[39;49m\u001b[43m]\u001b[49m\n",
      "\u001b[0;31mKeyError\u001b[0m: 'four'"
     ]
    }
   ],
   "source": [
    "example_dictionary['four']"
   ]
  },
  {
   "cell_type": "markdown",
   "metadata": {},
   "source": [
    "<br>\n",
    "\n",
    "A dictionary subscription can contain an expression that evaluates to a valid key."
   ]
  },
  {
   "cell_type": "code",
   "execution_count": 93,
   "metadata": {},
   "outputs": [
    {
     "data": {
      "text/plain": [
       "1"
      ]
     },
     "execution_count": 93,
     "metadata": {},
     "output_type": "execute_result"
    }
   ],
   "source": [
    "example_dictionary['o'+'n'+'e']"
   ]
  },
  {
   "cell_type": "markdown",
   "metadata": {},
   "source": [
    "<br>\n",
    "\n",
    "#### <ins>Key Assignment</ins>\n",
    "\n",
    "You can replace a previously defined value by targeting the associated key in an assignment statement."
   ]
  },
  {
   "cell_type": "code",
   "execution_count": 94,
   "metadata": {},
   "outputs": [
    {
     "data": {
      "text/plain": [
       "{'one': 1.0, 'two': 2, 'three': 3}"
      ]
     },
     "execution_count": 94,
     "metadata": {},
     "output_type": "execute_result"
    }
   ],
   "source": [
    "# Example\n",
    "\n",
    "# dict[key] = new_value\n",
    "\n",
    "example_dictionary['one'] = 1.0\n",
    "example_dictionary"
   ]
  },
  {
   "cell_type": "markdown",
   "metadata": {},
   "source": [
    "<br>\n",
    "\n",
    "Targeting a new key in an assignment statement will add a new item to a dictionary."
   ]
  },
  {
   "cell_type": "code",
   "execution_count": 95,
   "metadata": {},
   "outputs": [
    {
     "data": {
      "text/plain": [
       "{'one': 1.0, 'two': 2, 'three': 3, 'four': 4}"
      ]
     },
     "execution_count": 95,
     "metadata": {},
     "output_type": "execute_result"
    }
   ],
   "source": [
    "# Example\n",
    "\n",
    "# dict_[key] = new_value\n",
    "# dict[key]\n",
    "\n",
    "example_dictionary['four'] = 4\n",
    "example_dictionary"
   ]
  },
  {
   "cell_type": "markdown",
   "metadata": {},
   "source": [
    "<br>\n",
    "\n",
    "#### <ins>Other Operations</ins>\n",
    "\n",
    "To delete an item, use the `del` keyword."
   ]
  },
  {
   "cell_type": "code",
   "execution_count": 96,
   "metadata": {},
   "outputs": [
    {
     "data": {
      "text/plain": [
       "{'two': 2, 'three': 3, 'four': 4}"
      ]
     },
     "execution_count": 96,
     "metadata": {},
     "output_type": "execute_result"
    }
   ],
   "source": [
    "# del dict[key]\n",
    "# dict\n",
    "\n",
    "del example_dictionary['one']\n",
    "example_dictionary"
   ]
  },
  {
   "cell_type": "markdown",
   "metadata": {},
   "source": [
    "<br>\n",
    "\n",
    "As with lists, the `len` function will return the number of items in a dictionary..."
   ]
  },
  {
   "cell_type": "code",
   "execution_count": 99,
   "metadata": {},
   "outputs": [
    {
     "data": {
      "text/plain": [
       "3"
      ]
     },
     "execution_count": 99,
     "metadata": {},
     "output_type": "execute_result"
    }
   ],
   "source": [
    "# len(dict)\n",
    "\n"
   ]
  },
  {
   "cell_type": "markdown",
   "metadata": {},
   "source": [
    "<br>\n",
    "\n",
    "...and the `in` keyword will test for membership among a dictionary's keys. "
   ]
  },
  {
   "cell_type": "code",
   "execution_count": 100,
   "metadata": {},
   "outputs": [
    {
     "data": {
      "text/plain": [
       "True"
      ]
     },
     "execution_count": 100,
     "metadata": {},
     "output_type": "execute_result"
    }
   ],
   "source": [
    "# key in dict\n",
    "\n",
    "'two' in example_dictionary"
   ]
  },
  {
   "cell_type": "code",
   "execution_count": 102,
   "metadata": {},
   "outputs": [],
   "source": [
    "dict_1 = {\n",
    "    'one' : 1, \n",
    "    'two' : 2, \n",
    "    'three' : 3\n",
    "}\n",
    "\n",
    "dict_2 = {\n",
    "    'three' : 3.0,\n",
    "    'four' : 4,\n",
    "    'five' : 5\n",
    "}"
   ]
  },
  {
   "cell_type": "markdown",
   "metadata": {},
   "source": [
    "<br>\n",
    "\n",
    "You can merge two dictionaries with the `|` operator.\n",
    "\n",
    "When two keys match, the value in the first dictionary will be overwritten by the value in the second."
   ]
  },
  {
   "cell_type": "code",
   "execution_count": 103,
   "metadata": {},
   "outputs": [
    {
     "data": {
      "text/plain": [
       "{'one': 1, 'two': 2, 'three': 3.0, 'four': 4, 'five': 5}"
      ]
     },
     "execution_count": 103,
     "metadata": {},
     "output_type": "execute_result"
    }
   ],
   "source": [
    "# dict_1 | dict_2\n",
    "\n",
    "# Demonstrate the consequence of matching keys with different values.\n",
    "\n",
    "dict_1 | dict_2"
   ]
  },
  {
   "cell_type": "markdown",
   "metadata": {},
   "source": [
    "<br>\n",
    "\n"
   ]
  },
  {
   "cell_type": "markdown",
   "metadata": {},
   "source": [
    "---\n",
    "\n",
    "## **Other Containers**\n",
    "\n",
    "#### <ins>Sets</ins>\n",
    "\n",
    "Sets contain collections of unique hashable objects.\n",
    "\n",
    "Like dictionaries, sets are delimited by curly brackets, and set elements are separated by commas."
   ]
  },
  {
   "cell_type": "code",
   "execution_count": null,
   "metadata": {},
   "outputs": [],
   "source": [
    "#                            In syntactic terms, this is a set display.\n",
    "#                            |\n",
    "tech_companies = {'AAPL', 'GOOGL', 'AMZN'}\n",
    "retail_companies = {'WMT', 'AMZN', 'TGT'}\n",
    "\n",
    "print(tech_companies)\n",
    "print(type(tech_companies))\n",
    "print('-')\n",
    "print(retail_companies)\n",
    "print(type(retail_companies))"
   ]
  },
  {
   "cell_type": "markdown",
   "metadata": {},
   "source": [
    "<br>\n",
    "\n",
    "Set operations include union, intersection, and difference, among [others](https://docs.python.org/3/library/stdtypes.html#set-types-set-frozenset)."
   ]
  },
  {
   "cell_type": "code",
   "execution_count": null,
   "metadata": {},
   "outputs": [],
   "source": [
    "# Union\n",
    "print(tech_companies | retail_companies)\n",
    "print()\n",
    "\n",
    "# Intersection\n",
    "print(tech_companies & retail_companies)\n",
    "print()\n",
    "\n",
    "# Difference\n",
    "print(tech_companies - retail_companies)\n",
    "print(retail_companies - tech_companies)\n",
    "print()"
   ]
  },
  {
   "cell_type": "markdown",
   "metadata": {},
   "source": [
    "Sets cannot contain duplicates."
   ]
  },
  {
   "cell_type": "code",
   "execution_count": 109,
   "metadata": {},
   "outputs": [
    {
     "name": "stdout",
     "output_type": "stream",
     "text": [
      "{'COP', 'XOM', 'BP'}\n"
     ]
    }
   ],
   "source": [
    "energy_companies = {'XOM', 'COP', 'BP', 'COP'}\n",
    "\n",
    "print(energy_companies)"
   ]
  },
  {
   "cell_type": "markdown",
   "metadata": {},
   "source": [
    "<br>\n",
    "\n",
    "Therefore, you can use the `set` function to remove duplicates from lists."
   ]
  },
  {
   "cell_type": "code",
   "execution_count": 114,
   "metadata": {},
   "outputs": [
    {
     "data": {
      "text/plain": [
       "['XOM', 'AMZN', 'WMT', 'MSFT']"
      ]
     },
     "execution_count": 114,
     "metadata": {},
     "output_type": "execute_result"
    }
   ],
   "source": [
    "stock_purchase_list = ['XOM', 'AMZN', 'MSFT', 'AMZN', 'WMT']\n",
    "stock_purchase_set = set(stock_purchase_list)\n",
    "\n",
    "list(stock_purchase_set)\n",
    "\n"
   ]
  },
  {
   "cell_type": "code",
   "execution_count": 111,
   "metadata": {},
   "outputs": [
    {
     "data": {
      "text/plain": [
       "4"
      ]
     },
     "execution_count": 111,
     "metadata": {},
     "output_type": "execute_result"
    }
   ],
   "source": [
    "len(stock_purchase_set)"
   ]
  },
  {
   "cell_type": "markdown",
   "metadata": {},
   "source": [
    "<br>\n",
    "\n",
    "As with other container types, you can use the `len` function and `in` keyword with sets to check length and membership."
   ]
  },
  {
   "cell_type": "code",
   "execution_count": null,
   "metadata": {},
   "outputs": [],
   "source": [
    "print(len(retail_companies))\n",
    "print('AAPL' in energy_companies)"
   ]
  },
  {
   "cell_type": "markdown",
   "metadata": {},
   "source": [
    "<br>\n",
    "\n",
    "#### <ins>Tuples</ins>\n",
    "\n",
    "Tuples are immutable lists.\n",
    "\n",
    "Tuples are delimited with parentheses."
   ]
  },
  {
   "cell_type": "code",
   "execution_count": 115,
   "metadata": {},
   "outputs": [
    {
     "data": {
      "text/plain": [
       "tuple"
      ]
     },
     "execution_count": 115,
     "metadata": {},
     "output_type": "execute_result"
    }
   ],
   "source": [
    "example_tuple = (1, 2, 3)\n",
    "type(example_tuple)"
   ]
  },
  {
   "cell_type": "markdown",
   "metadata": {},
   "source": [
    "<br>\n",
    "\n",
    "Tuples can be subscripted and sliced like lists."
   ]
  },
  {
   "cell_type": "code",
   "execution_count": 116,
   "metadata": {},
   "outputs": [
    {
     "name": "stdout",
     "output_type": "stream",
     "text": [
      "2\n",
      "(2, 3)\n"
     ]
    }
   ],
   "source": [
    "print(example_tuple[1])\n",
    "print(example_tuple[1:])        # This slicing will return a tuple."
   ]
  },
  {
   "cell_type": "markdown",
   "metadata": {},
   "source": [
    "<br>\n",
    "\n",
    "Once you create a tuple, you cannot change its elements."
   ]
  },
  {
   "cell_type": "code",
   "execution_count": 117,
   "metadata": {},
   "outputs": [
    {
     "ename": "TypeError",
     "evalue": "'tuple' object does not support item assignment",
     "output_type": "error",
     "traceback": [
      "\u001b[0;31m---------------------------------------------------------------------------\u001b[0m",
      "\u001b[0;31mTypeError\u001b[0m                                 Traceback (most recent call last)",
      "Cell \u001b[0;32mIn[117], line 1\u001b[0m\n\u001b[0;32m----> 1\u001b[0m \u001b[43mexample_tuple\u001b[49m\u001b[43m[\u001b[49m\u001b[38;5;241;43m1\u001b[39;49m\u001b[43m]\u001b[49m \u001b[38;5;241m=\u001b[39m \u001b[38;5;241m4\u001b[39m\n",
      "\u001b[0;31mTypeError\u001b[0m: 'tuple' object does not support item assignment"
     ]
    }
   ],
   "source": [
    "example_tuple[1] = 4"
   ]
  },
  {
   "cell_type": "markdown",
   "metadata": {},
   "source": [
    "<br>\n",
    "\n",
    "If all of its elements are hashable, a tuple is hashable and can be used as a dictionary key and a member of a set."
   ]
  },
  {
   "cell_type": "code",
   "execution_count": null,
   "metadata": {},
   "outputs": [],
   "source": [
    "test_dict = {\n",
    "    example_tuple : 'example_value'\n",
    "}\n",
    "print(test_dict)\n",
    "\n",
    "print('-')\n",
    "\n",
    "test_set = {example_tuple}\n",
    "print(test_set)"
   ]
  },
  {
   "cell_type": "markdown",
   "metadata": {},
   "source": [
    "---\n",
    "\n",
    "## **Functions**\n",
    "\n",
    "Functions are named operations which can also serve as operands.\n",
    "\n",
    "For example, you can bind a function to a variable name and call the function through the variable."
   ]
  },
  {
   "cell_type": "code",
   "execution_count": 118,
   "metadata": {},
   "outputs": [
    {
     "data": {
      "text/plain": [
       "3"
      ]
     },
     "execution_count": 118,
     "metadata": {},
     "output_type": "execute_result"
    }
   ],
   "source": [
    "x = len\n",
    "x([1, 2, 3])"
   ]
  },
  {
   "cell_type": "markdown",
   "metadata": {},
   "source": [
    "<br>\n",
    "\n",
    "You can store functions in containers and call them through subscription."
   ]
  },
  {
   "cell_type": "code",
   "execution_count": 121,
   "metadata": {},
   "outputs": [
    {
     "data": {
      "text/plain": [
       "3"
      ]
     },
     "execution_count": 121,
     "metadata": {},
     "output_type": "execute_result"
    }
   ],
   "source": [
    "function_dict = {\n",
    "    'Length' : len,\n",
    "    'Maximum' : max,\n",
    "    'Minimum' : min\n",
    "}\n",
    "\n",
    "function_dict['Length']([1, 2, 3])     # Subscriptions and function calls share the same level of  \n",
    "                                        # precedence and are executed in the order in which they appear.\n",
    "                                        # Example: print(function_dict['Length'])"
   ]
  },
  {
   "cell_type": "markdown",
   "metadata": {},
   "source": [
    "<br>\n",
    "\n",
    "You can pass functions as arguments to other functions."
   ]
  },
  {
   "cell_type": "code",
   "execution_count": 123,
   "metadata": {},
   "outputs": [
    {
     "name": "stdout",
     "output_type": "stream",
     "text": [
      "Help on built-in function round in module builtins:\n",
      "\n",
      "round(number, ndigits=None)\n",
      "    Round a number to a given precision in decimal digits.\n",
      "\n",
      "    The return value is an integer if ndigits is omitted or None.  Otherwise\n",
      "    the return value has the same type as the number.  ndigits may be negative.\n",
      "\n"
     ]
    }
   ],
   "source": [
    "help(round)"
   ]
  },
  {
   "cell_type": "markdown",
   "metadata": {},
   "source": [
    "---\n",
    "\n",
    "## **Other Types**\n",
    "\n",
    "Python includes more object types than we have covered here. You can find a comprehensive list in [the official documentation](https://docs.python.org/3/library/stdtypes.html)."
   ]
  }
 ],
 "metadata": {
  "kernelspec": {
   "display_name": "Python 3",
   "language": "python",
   "name": "python3"
  },
  "language_info": {
   "codemirror_mode": {
    "name": "ipython",
    "version": 3
   },
   "file_extension": ".py",
   "mimetype": "text/x-python",
   "name": "python",
   "nbconvert_exporter": "python",
   "pygments_lexer": "ipython3",
   "version": "3.12.1"
  }
 },
 "nbformat": 4,
 "nbformat_minor": 2
}
