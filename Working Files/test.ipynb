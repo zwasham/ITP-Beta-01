{
 "cells": [
  {
   "cell_type": "code",
   "execution_count": null,
   "metadata": {},
   "outputs": [],
   "source": [
    "from math import sqrt"
   ]
  },
  {
   "cell_type": "code",
   "execution_count": null,
   "metadata": {},
   "outputs": [],
   "source": [
    "sqrt(4)"
   ]
  },
  {
   "cell_type": "code",
   "execution_count": 3,
   "metadata": {},
   "outputs": [],
   "source": [
    "def perform_operation(operation, operand):\n",
    "    return operation(operand)"
   ]
  },
  {
   "cell_type": "code",
   "execution_count": null,
   "metadata": {},
   "outputs": [],
   "source": [
    "perform_operation(abs, -4)"
   ]
  },
  {
   "cell_type": "code",
   "execution_count": null,
   "metadata": {},
   "outputs": [],
   "source": [
    "operations = [\n",
    "    [abs, -4],\n",
    "    [sqrt, 4]\n",
    "]\n",
    "\n",
    "results = []\n",
    "\n",
    "for operation, operand in operations:\n",
    "    results.append(perform_operation(operation, operand))\n",
    "\n",
    "results"
   ]
  },
  {
   "cell_type": "code",
   "execution_count": 8,
   "metadata": {},
   "outputs": [],
   "source": [
    "stored_username = 'firstlast'\n",
    "stored_password = 'Password'\n",
    "stored_credentials = (stored_username, stored_password)\n",
    "\n",
    "private_dict = {\n",
    "    stored_credentials : 'Private Information'\n",
    "}\n",
    "\n",
    "input_username = input('Username:')\n",
    "input_password = input('Password:')\n",
    "input_credentials = (input_username, input_password)\n",
    "\n",
    "if input_credentials == stored_credentials:\n",
    "    print(private_dict[stored_credentials])"
   ]
  },
  {
   "cell_type": "code",
   "execution_count": 1,
   "metadata": {},
   "outputs": [
    {
     "name": "stdout",
     "output_type": "stream",
     "text": [
      "0\n",
      "-\n",
      "1\n",
      "-\n",
      "2\n",
      "-\n",
      "3\n",
      "-\n",
      "4\n",
      "-\n",
      "5\n",
      "-\n",
      "6\n",
      "-\n",
      "7\n",
      "-\n",
      "8\n",
      "-\n",
      "9\n",
      "-\n",
      "x = 10\n"
     ]
    }
   ],
   "source": [
    "x = 0\n",
    "\n",
    "while x < 10:\n",
    "    print(x)\n",
    "    print('-')\n",
    "    x += 1\n",
    "else:\n",
    "    print('x = 10')"
   ]
  },
  {
   "cell_type": "code",
   "execution_count": 3,
   "metadata": {},
   "outputs": [
    {
     "name": "stdout",
     "output_type": "stream",
     "text": [
      "False\n"
     ]
    }
   ],
   "source": []
  },
  {
   "cell_type": "code",
   "execution_count": null,
   "metadata": {},
   "outputs": [],
   "source": []
  }
 ],
 "metadata": {
  "kernelspec": {
   "display_name": "Python 3",
   "language": "python",
   "name": "python3"
  },
  "language_info": {
   "codemirror_mode": {
    "name": "ipython",
    "version": 3
   },
   "file_extension": ".py",
   "mimetype": "text/x-python",
   "name": "python",
   "nbconvert_exporter": "python",
   "pygments_lexer": "ipython3",
   "version": "3.10.13"
  }
 },
 "nbformat": 4,
 "nbformat_minor": 2
}
